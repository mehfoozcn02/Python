{
 "cells": [
  {
   "cell_type": "code",
   "execution_count": 29,
   "id": "e11246d6",
   "metadata": {},
   "outputs": [],
   "source": [
    "# Introduction to Python"
   ]
  },
  {
   "cell_type": "markdown",
   "id": "9e63f833",
   "metadata": {},
   "source": [
    "# gems 7 8\n",
    "## gems7 8\n",
    "### gems7 8\n"
   ]
  },
  {
   "cell_type": "markdown",
   "id": "3b9a1b2f",
   "metadata": {},
   "source": [
    "\n",
    "# Shortcut Keys\n",
    "- (ctrl + enter) run the cell\n",
    "- ( shift + enter) run the cell and create new cell below\n",
    "- (D + D) to delete a cell\n",
    "- (M) convert cell to markdown\n",
    "- (Y) convert cell to code\n",
    "- (C) copy cell\n",
    "- (V) paste cell\n",
    "- (X) cut cell\n",
    "- (A) create new cell above\n",
    "- (B) create new cell below\n",
    "- (J) toggle down"
   ]
  },
  {
   "cell_type": "markdown",
   "id": "b5aa98eb",
   "metadata": {},
   "source": []
  },
  {
   "cell_type": "code",
   "execution_count": null,
   "id": "7184e706",
   "metadata": {},
   "outputs": [],
   "source": []
  },
  {
   "cell_type": "markdown",
   "id": "ad7cf815",
   "metadata": {},
   "source": [
    "## Variable: Variable is a container used to store values"
   ]
  },
  {
   "cell_type": "code",
   "execution_count": 1,
   "id": "63d38548",
   "metadata": {},
   "outputs": [],
   "source": [
    "a=121 # as an integer"
   ]
  },
  {
   "cell_type": "code",
   "execution_count": 7,
   "id": "29b96988",
   "metadata": {},
   "outputs": [
    {
     "data": {
      "text/plain": [
       "121"
      ]
     },
     "execution_count": 7,
     "metadata": {},
     "output_type": "execute_result"
    }
   ],
   "source": [
    "a"
   ]
  },
  {
   "cell_type": "code",
   "execution_count": 65,
   "id": "6f0e4fdf",
   "metadata": {},
   "outputs": [],
   "source": [
    "b=8.5  # as a floating point"
   ]
  },
  {
   "cell_type": "code",
   "execution_count": 10,
   "id": "03ca6e24",
   "metadata": {},
   "outputs": [
    {
     "data": {
      "text/plain": [
       "8.5"
      ]
     },
     "execution_count": 10,
     "metadata": {},
     "output_type": "execute_result"
    }
   ],
   "source": [
    "b"
   ]
  },
  {
   "cell_type": "code",
   "execution_count": 14,
   "id": "a78860c7",
   "metadata": {},
   "outputs": [
    {
     "data": {
      "text/plain": [
       "8.5"
      ]
     },
     "execution_count": 14,
     "metadata": {},
     "output_type": "execute_result"
    }
   ],
   "source": [
    "b"
   ]
  },
  {
   "cell_type": "markdown",
   "id": "b4c8da21",
   "metadata": {},
   "source": [
    "### string is a text value which should be with double/single Quotation/commas' "
   ]
  },
  {
   "cell_type": "code",
   "execution_count": 1,
   "id": "9f067446",
   "metadata": {},
   "outputs": [
    {
     "data": {
      "text/plain": [
       "'cat'"
      ]
     },
     "execution_count": 1,
     "metadata": {},
     "output_type": "execute_result"
    }
   ],
   "source": [
    "c=\"cat\" #as a string\n",
    "c"
   ]
  },
  {
   "cell_type": "code",
   "execution_count": 16,
   "id": "81a538ff",
   "metadata": {},
   "outputs": [
    {
     "data": {
      "text/plain": [
       "'cat'"
      ]
     },
     "execution_count": 16,
     "metadata": {},
     "output_type": "execute_result"
    }
   ],
   "source": [
    "c"
   ]
  },
  {
   "cell_type": "code",
   "execution_count": 17,
   "id": "02e47e55",
   "metadata": {},
   "outputs": [],
   "source": [
    "a=b=c=222"
   ]
  },
  {
   "cell_type": "code",
   "execution_count": 18,
   "id": "d5ed53b4",
   "metadata": {},
   "outputs": [
    {
     "data": {
      "text/plain": [
       "222"
      ]
     },
     "execution_count": 18,
     "metadata": {},
     "output_type": "execute_result"
    }
   ],
   "source": [
    "a"
   ]
  },
  {
   "cell_type": "code",
   "execution_count": 19,
   "id": "f3342977",
   "metadata": {},
   "outputs": [
    {
     "data": {
      "text/plain": [
       "222"
      ]
     },
     "execution_count": 19,
     "metadata": {},
     "output_type": "execute_result"
    }
   ],
   "source": [
    "b"
   ]
  },
  {
   "cell_type": "code",
   "execution_count": 20,
   "id": "b71b6945",
   "metadata": {},
   "outputs": [
    {
     "data": {
      "text/plain": [
       "222"
      ]
     },
     "execution_count": 20,
     "metadata": {},
     "output_type": "execute_result"
    }
   ],
   "source": [
    "c"
   ]
  },
  {
   "cell_type": "code",
   "execution_count": 21,
   "id": "be7cf50d",
   "metadata": {},
   "outputs": [],
   "source": [
    "x=y=z=(7,8,9)"
   ]
  },
  {
   "cell_type": "code",
   "execution_count": 22,
   "id": "796d6482",
   "metadata": {},
   "outputs": [
    {
     "data": {
      "text/plain": [
       "(7, 8, 9)"
      ]
     },
     "execution_count": 22,
     "metadata": {},
     "output_type": "execute_result"
    }
   ],
   "source": [
    "x"
   ]
  },
  {
   "cell_type": "code",
   "execution_count": 23,
   "id": "90fcebe4",
   "metadata": {},
   "outputs": [
    {
     "data": {
      "text/plain": [
       "(7, 8, 9)"
      ]
     },
     "execution_count": 23,
     "metadata": {},
     "output_type": "execute_result"
    }
   ],
   "source": [
    "y"
   ]
  },
  {
   "cell_type": "code",
   "execution_count": 24,
   "id": "1969b569",
   "metadata": {},
   "outputs": [
    {
     "data": {
      "text/plain": [
       "(7, 8, 9)"
      ]
     },
     "execution_count": 24,
     "metadata": {},
     "output_type": "execute_result"
    }
   ],
   "source": [
    "z"
   ]
  },
  {
   "cell_type": "code",
   "execution_count": 25,
   "id": "b57c100f",
   "metadata": {},
   "outputs": [],
   "source": [
    "var1=\"ram\"\n",
    "var2=555\n",
    "var3=\"Hari likes cricket\""
   ]
  },
  {
   "cell_type": "code",
   "execution_count": 26,
   "id": "dfcc6859",
   "metadata": {},
   "outputs": [
    {
     "name": "stdout",
     "output_type": "stream",
     "text": [
      "ram 555 Hari likes cricket\n"
     ]
    }
   ],
   "source": [
    "print(var1,var2,var3)"
   ]
  },
  {
   "cell_type": "code",
   "execution_count": 27,
   "id": "68d846f1",
   "metadata": {},
   "outputs": [
    {
     "name": "stdout",
     "output_type": "stream",
     "text": [
      "ram # 555 $ Hari likes cricket @\n"
     ]
    }
   ],
   "source": [
    "print(var1,\"#\",var2,\"$\",var3,\"@\")\n",
    "    "
   ]
  },
  {
   "cell_type": "code",
   "execution_count": 2,
   "id": "a2ae0300",
   "metadata": {},
   "outputs": [
    {
     "data": {
      "text/plain": [
       "786"
      ]
     },
     "execution_count": 2,
     "metadata": {},
     "output_type": "execute_result"
    }
   ],
   "source": [
    "x =786\n",
    "x"
   ]
  },
  {
   "cell_type": "code",
   "execution_count": 3,
   "id": "229e86a9",
   "metadata": {},
   "outputs": [],
   "source": [
    "var1,var2,var3=1,2,3"
   ]
  },
  {
   "cell_type": "code",
   "execution_count": 4,
   "id": "61015534",
   "metadata": {},
   "outputs": [
    {
     "data": {
      "text/plain": [
       "3"
      ]
     },
     "execution_count": 4,
     "metadata": {},
     "output_type": "execute_result"
    }
   ],
   "source": [
    "var3"
   ]
  },
  {
   "cell_type": "code",
   "execution_count": 5,
   "id": "213cbc20",
   "metadata": {},
   "outputs": [
    {
     "name": "stdout",
     "output_type": "stream",
     "text": [
      "1\n"
     ]
    }
   ],
   "source": [
    "print(var1)"
   ]
  },
  {
   "cell_type": "code",
   "execution_count": 6,
   "id": "aa2f1009",
   "metadata": {},
   "outputs": [],
   "source": [
    "###List"
   ]
  },
  {
   "cell_type": "markdown",
   "id": "0440b200",
   "metadata": {},
   "source": [
    "## List\n",
    "- List is a collection of elementsseparated bycomma and enclosed by square bracket[_]. List in python is a group of different types of elements"
   ]
  },
  {
   "cell_type": "code",
   "execution_count": 7,
   "id": "d4d083fd",
   "metadata": {},
   "outputs": [],
   "source": [
    "Fruits=[\"Apple\",\"Orange\",\"Pine\",\"Grapes\",\"Mango\"]"
   ]
  },
  {
   "cell_type": "code",
   "execution_count": 8,
   "id": "07bd7a99",
   "metadata": {},
   "outputs": [
    {
     "data": {
      "text/plain": [
       "['Apple', 'Orange', 'Pine', 'Grapes', 'Mango']"
      ]
     },
     "execution_count": 8,
     "metadata": {},
     "output_type": "execute_result"
    }
   ],
   "source": [
    "Fruits"
   ]
  },
  {
   "cell_type": "code",
   "execution_count": 12,
   "id": "0207f3fe",
   "metadata": {},
   "outputs": [],
   "source": [
    "Fruits_Mixed=[\"Banana\",\"Plum\",111,222,333]"
   ]
  },
  {
   "cell_type": "code",
   "execution_count": 13,
   "id": "262c6ef4",
   "metadata": {},
   "outputs": [
    {
     "data": {
      "text/plain": [
       "['Banana', 'Plum', 111, 222, 333]"
      ]
     },
     "execution_count": 13,
     "metadata": {},
     "output_type": "execute_result"
    }
   ],
   "source": [
    "Fruits_Mixed"
   ]
  },
  {
   "cell_type": "code",
   "execution_count": 14,
   "id": "55b5f8f3",
   "metadata": {},
   "outputs": [
    {
     "data": {
      "text/plain": [
       "'Apple'"
      ]
     },
     "execution_count": 14,
     "metadata": {},
     "output_type": "execute_result"
    }
   ],
   "source": [
    "#Accessing the value in a list\n",
    "Fruits[0]"
   ]
  },
  {
   "cell_type": "code",
   "execution_count": 17,
   "id": "930ab868",
   "metadata": {},
   "outputs": [
    {
     "data": {
      "text/plain": [
       "'Mango'"
      ]
     },
     "execution_count": 17,
     "metadata": {},
     "output_type": "execute_result"
    }
   ],
   "source": [
    "#Accessmango\n",
    "Fruits[4]"
   ]
  },
  {
   "cell_type": "code",
   "execution_count": 18,
   "id": "5fb60121",
   "metadata": {},
   "outputs": [
    {
     "data": {
      "text/plain": [
       "111"
      ]
     },
     "execution_count": 18,
     "metadata": {},
     "output_type": "execute_result"
    }
   ],
   "source": [
    "Fruits_Mixed[2]"
   ]
  },
  {
   "cell_type": "code",
   "execution_count": 20,
   "id": "425defa3",
   "metadata": {},
   "outputs": [
    {
     "data": {
      "text/plain": [
       "'Plum'"
      ]
     },
     "execution_count": 20,
     "metadata": {},
     "output_type": "execute_result"
    }
   ],
   "source": [
    "#access plum\n",
    "Fruits_Mixed[1]"
   ]
  },
  {
   "cell_type": "code",
   "execution_count": 24,
   "id": "f7dca806",
   "metadata": {},
   "outputs": [],
   "source": [
    "#replace values\n",
    "Fruits[2]=\"Strawberry\""
   ]
  },
  {
   "cell_type": "code",
   "execution_count": 25,
   "id": "5425fea6",
   "metadata": {},
   "outputs": [
    {
     "data": {
      "text/plain": [
       "['Apple', 'Orange', 'Strawberry', 'Grapes', 'Mango']"
      ]
     },
     "execution_count": 25,
     "metadata": {},
     "output_type": "execute_result"
    }
   ],
   "source": [
    "Fruits"
   ]
  },
  {
   "cell_type": "code",
   "execution_count": null,
   "id": "782901ec",
   "metadata": {},
   "outputs": [],
   "source": [
    "## Slicing\n",
    "- to access range of values use :"
   ]
  },
  {
   "cell_type": "code",
   "execution_count": 26,
   "id": "063fa299",
   "metadata": {},
   "outputs": [
    {
     "data": {
      "text/plain": [
       "['Orange', 'Strawberry', 'Grapes']"
      ]
     },
     "execution_count": 26,
     "metadata": {},
     "output_type": "execute_result"
    }
   ],
   "source": [
    "Fruits[1:4]"
   ]
  },
  {
   "cell_type": "code",
   "execution_count": 28,
   "id": "332590b4",
   "metadata": {},
   "outputs": [
    {
     "data": {
      "text/plain": [
       "['Apple', 'Orange', 'Strawberry', 'Grapes', 'Mango']"
      ]
     },
     "execution_count": 28,
     "metadata": {},
     "output_type": "execute_result"
    }
   ],
   "source": [
    "#access all values\n",
    "Fruits[:]"
   ]
  },
  {
   "cell_type": "code",
   "execution_count": 29,
   "id": "4c9b9e39",
   "metadata": {},
   "outputs": [
    {
     "data": {
      "text/plain": [
       "['Grapes', 'Mango']"
      ]
     },
     "execution_count": 29,
     "metadata": {},
     "output_type": "execute_result"
    }
   ],
   "source": [
    "#access grapes and mango\n",
    "Fruits[3:5]"
   ]
  },
  {
   "cell_type": "code",
   "execution_count": 31,
   "id": "625e1ed6",
   "metadata": {},
   "outputs": [
    {
     "data": {
      "text/plain": [
       "['Orange', 'Strawberry', 'Grapes', 'Mango']"
      ]
     },
     "execution_count": 31,
     "metadata": {},
     "output_type": "execute_result"
    }
   ],
   "source": [
    "#access all values from orange\n",
    "Fruits[1:5]"
   ]
  },
  {
   "cell_type": "code",
   "execution_count": 32,
   "id": "19f3e636",
   "metadata": {},
   "outputs": [
    {
     "data": {
      "text/plain": [
       "['Orange', 'Strawberry', 'Grapes', 'Mango']"
      ]
     },
     "execution_count": 32,
     "metadata": {},
     "output_type": "execute_result"
    }
   ],
   "source": [
    "#another way of accesssing orange\n",
    "Fruits[1:]"
   ]
  },
  {
   "cell_type": "code",
   "execution_count": 37,
   "id": "2d6334dc",
   "metadata": {},
   "outputs": [
    {
     "data": {
      "text/plain": [
       "['Apple', 'Orange', 'Strawberry', 'Grapes']"
      ]
     },
     "execution_count": 37,
     "metadata": {},
     "output_type": "execute_result"
    }
   ],
   "source": [
    "#access all values up to grapes\n",
    "Fruits[0:4]"
   ]
  },
  {
   "cell_type": "code",
   "execution_count": 35,
   "id": "3ec7f352",
   "metadata": {},
   "outputs": [
    {
     "data": {
      "text/plain": [
       "'Mango'"
      ]
     },
     "execution_count": 35,
     "metadata": {},
     "output_type": "execute_result"
    }
   ],
   "source": [
    "#access the last value\n",
    "Fruits[-1]"
   ]
  },
  {
   "cell_type": "code",
   "execution_count": 38,
   "id": "7003fcfb",
   "metadata": {},
   "outputs": [
    {
     "data": {
      "text/plain": [
       "'Strawberry'"
      ]
     },
     "execution_count": 38,
     "metadata": {},
     "output_type": "execute_result"
    }
   ],
   "source": [
    "Fruits[-3]"
   ]
  },
  {
   "cell_type": "code",
   "execution_count": 44,
   "id": "bdbf46d9",
   "metadata": {},
   "outputs": [],
   "source": [
    "#Text slicing\n",
    "Statements=\"Hari works with Tesla\""
   ]
  },
  {
   "cell_type": "code",
   "execution_count": 51,
   "id": "18041df8",
   "metadata": {},
   "outputs": [
    {
     "data": {
      "text/plain": [
       "'Tesla'"
      ]
     },
     "execution_count": 51,
     "metadata": {},
     "output_type": "execute_result"
    }
   ],
   "source": [
    "#access Tesla\n",
    "Statements[-5:]"
   ]
  },
  {
   "cell_type": "code",
   "execution_count": 46,
   "id": "2114d86b",
   "metadata": {},
   "outputs": [
    {
     "data": {
      "text/plain": [
       "['Apple', 'Orange', 'Strawberry', 'Grapes', 'Mango']"
      ]
     },
     "execution_count": 46,
     "metadata": {},
     "output_type": "execute_result"
    }
   ],
   "source": [
    "Fruits"
   ]
  },
  {
   "cell_type": "code",
   "execution_count": 47,
   "id": "388dd920",
   "metadata": {},
   "outputs": [],
   "source": [
    "#sort in an alphabetic order\n",
    "Fruits.sort()"
   ]
  },
  {
   "cell_type": "code",
   "execution_count": 48,
   "id": "3d0fd77f",
   "metadata": {},
   "outputs": [
    {
     "data": {
      "text/plain": [
       "['Apple', 'Grapes', 'Mango', 'Orange', 'Strawberry']"
      ]
     },
     "execution_count": 48,
     "metadata": {},
     "output_type": "execute_result"
    }
   ],
   "source": [
    "Fruits"
   ]
  },
  {
   "cell_type": "code",
   "execution_count": 82,
   "id": "b71988d1",
   "metadata": {},
   "outputs": [
    {
     "data": {
      "text/plain": [
       "[121, 333, 555, 777, 888]"
      ]
     },
     "execution_count": 82,
     "metadata": {},
     "output_type": "execute_result"
    }
   ],
   "source": [
    "numbers=[777,888,555,333,121]\n",
    "numbers.sort()\n",
    "numbers"
   ]
  },
  {
   "cell_type": "code",
   "execution_count": 53,
   "id": "a1634e6a",
   "metadata": {},
   "outputs": [
    {
     "data": {
      "text/plain": [
       "[888, 777, 555, 333, 121]"
      ]
     },
     "execution_count": 53,
     "metadata": {},
     "output_type": "execute_result"
    }
   ],
   "source": [
    "#to sort in descending order\n",
    "numbers.sort(reverse=True)\n",
    "numbers         "
   ]
  },
  {
   "cell_type": "code",
   "execution_count": 55,
   "id": "ac4ab757",
   "metadata": {},
   "outputs": [
    {
     "data": {
      "text/plain": [
       "[121, 333, 555, 777, 888]"
      ]
     },
     "execution_count": 55,
     "metadata": {},
     "output_type": "execute_result"
    }
   ],
   "source": [
    "#ascending order\n",
    "numbers.sort(reverse=False)\n",
    "numbers"
   ]
  },
  {
   "cell_type": "code",
   "execution_count": 57,
   "id": "a80b0e4a",
   "metadata": {},
   "outputs": [
    {
     "data": {
      "text/plain": [
       "[121, 333, 555, 777, 888, 999, 999]"
      ]
     },
     "execution_count": 57,
     "metadata": {},
     "output_type": "execute_result"
    }
   ],
   "source": [
    "#append new value\n",
    "numbers.append(999)\n",
    "numbers"
   ]
  },
  {
   "cell_type": "code",
   "execution_count": 62,
   "id": "08c1f327",
   "metadata": {},
   "outputs": [
    {
     "data": {
      "text/plain": [
       "999"
      ]
     },
     "execution_count": 62,
     "metadata": {},
     "output_type": "execute_result"
    }
   ],
   "source": [
    "#pop out the last value\n",
    "numbers.pop\n",
    "999"
   ]
  },
  {
   "cell_type": "code",
   "execution_count": 59,
   "id": "b8f5f9f2",
   "metadata": {},
   "outputs": [
    {
     "data": {
      "text/plain": [
       "999"
      ]
     },
     "execution_count": 59,
     "metadata": {},
     "output_type": "execute_result"
    }
   ],
   "source": [
    "#max value in list\n",
    "max(numbers)"
   ]
  },
  {
   "cell_type": "code",
   "execution_count": 60,
   "id": "2a97ed6d",
   "metadata": {},
   "outputs": [
    {
     "data": {
      "text/plain": [
       "121"
      ]
     },
     "execution_count": 60,
     "metadata": {},
     "output_type": "execute_result"
    }
   ],
   "source": [
    "#min value in list\n",
    "min(numbers)"
   ]
  },
  {
   "cell_type": "code",
   "execution_count": 63,
   "id": "de9ce569",
   "metadata": {},
   "outputs": [
    {
     "data": {
      "text/plain": [
       "7"
      ]
     },
     "execution_count": 63,
     "metadata": {},
     "output_type": "execute_result"
    }
   ],
   "source": [
    "#length of the list\n",
    "len(numbers)"
   ]
  },
  {
   "cell_type": "code",
   "execution_count": 68,
   "id": "5831cffa",
   "metadata": {},
   "outputs": [
    {
     "data": {
      "text/plain": [
       "[333, 555, 777, 888, 999, 999]"
      ]
     },
     "execution_count": 68,
     "metadata": {},
     "output_type": "execute_result"
    }
   ],
   "source": [
    "# to remove a value from list\n",
    "numbers.remove(121)\n",
    "numbers"
   ]
  },
  {
   "cell_type": "code",
   "execution_count": 71,
   "id": "84723e41",
   "metadata": {},
   "outputs": [
    {
     "data": {
      "text/plain": [
       "[333, 555, 777, 999, 999]"
      ]
     },
     "execution_count": 71,
     "metadata": {},
     "output_type": "execute_result"
    }
   ],
   "source": [
    "numbers.remove(888)\n",
    "numbers"
   ]
  },
  {
   "cell_type": "code",
   "execution_count": 72,
   "id": "c19fb502",
   "metadata": {},
   "outputs": [
    {
     "data": {
      "text/plain": [
       "[333, 555, 777, 'hello', 999, 999]"
      ]
     },
     "execution_count": 72,
     "metadata": {},
     "output_type": "execute_result"
    }
   ],
   "source": [
    "#to insert a value in list\n",
    "#insert hello\n",
    "numbers.insert(3,\"hello\")\n",
    "numbers"
   ]
  },
  {
   "cell_type": "code",
   "execution_count": 73,
   "id": "1fc7f281",
   "metadata": {},
   "outputs": [
    {
     "data": {
      "text/plain": [
       "[333, 555, 777, 999, 999]"
      ]
     },
     "execution_count": 73,
     "metadata": {},
     "output_type": "execute_result"
    }
   ],
   "source": [
    "# to delete a value\n",
    "del numbers[3]\n",
    "numbers"
   ]
  },
  {
   "cell_type": "code",
   "execution_count": 85,
   "id": "503a77ca",
   "metadata": {},
   "outputs": [
    {
     "data": {
      "text/plain": [
       "[121, 333]"
      ]
     },
     "execution_count": 85,
     "metadata": {},
     "output_type": "execute_result"
    }
   ],
   "source": [
    "#to delete a multiple values\n",
    "del numbers[2:]\n",
    "numbers"
   ]
  },
  {
   "cell_type": "code",
   "execution_count": 87,
   "id": "1df6084e",
   "metadata": {},
   "outputs": [
    {
     "data": {
      "text/plain": [
       "[32, 51]"
      ]
     },
     "execution_count": 87,
     "metadata": {},
     "output_type": "execute_result"
    }
   ],
   "source": [
    "#nested list\n",
    "nested_list=[222,\"hari\",[32,51],88,[21,54,67]]\n",
    "nested_list[2]             "
   ]
  },
  {
   "cell_type": "code",
   "execution_count": 98,
   "id": "26d35001",
   "metadata": {},
   "outputs": [
    {
     "data": {
      "text/plain": [
       "67"
      ]
     },
     "execution_count": 98,
     "metadata": {},
     "output_type": "execute_result"
    }
   ],
   "source": [
    "#access 67 from nested list\n",
    "nested_list[4][2]"
   ]
  },
  {
   "cell_type": "code",
   "execution_count": 100,
   "id": "a8e59a8a",
   "metadata": {},
   "outputs": [
    {
     "data": {
      "text/plain": [
       "[222, 'hari', 'hello', [32, 51], 88, [21, 54, 67]]"
      ]
     },
     "execution_count": 100,
     "metadata": {},
     "output_type": "execute_result"
    }
   ],
   "source": [
    "#insert\"hello in 2nd index of nested list\n",
    "nested_list.insert(2,\"hello\")\n",
    "nested_list"
   ]
  },
  {
   "cell_type": "code",
   "execution_count": 101,
   "id": "ff6ba1b0",
   "metadata": {},
   "outputs": [],
   "source": [
    "#replace 51 with 999\n",
    "nested_list[3][1]=999"
   ]
  },
  {
   "cell_type": "code",
   "execution_count": 102,
   "id": "74ed17d1",
   "metadata": {},
   "outputs": [
    {
     "data": {
      "text/plain": [
       "[222, 'hari', 'hello', [32, 999], 88, [21, 54, 67]]"
      ]
     },
     "execution_count": 102,
     "metadata": {},
     "output_type": "execute_result"
    }
   ],
   "source": [
    "nested_list"
   ]
  },
  {
   "cell_type": "markdown",
   "id": "ee47d8b6",
   "metadata": {},
   "source": [
    "#tuple\n",
    "tuple is immutable/not modified"
   ]
  },
  {
   "cell_type": "code",
   "execution_count": 104,
   "id": "ba3ef18d",
   "metadata": {},
   "outputs": [],
   "source": [
    "tuple=(22,33,11,\"ttt\",9.21)"
   ]
  },
  {
   "cell_type": "code",
   "execution_count": 108,
   "id": "0b337b71",
   "metadata": {},
   "outputs": [],
   "source": [
    "tuple=1,58,\"yy\",745,\"jk\""
   ]
  },
  {
   "cell_type": "code",
   "execution_count": 1,
   "id": "fe7cf110",
   "metadata": {},
   "outputs": [],
   "source": [
    "# Import data set\n"
   ]
  },
  {
   "cell_type": "code",
   "execution_count": 2,
   "id": "d7f2bfab",
   "metadata": {},
   "outputs": [
    {
     "data": {
      "text/plain": [
       "10"
      ]
     },
     "execution_count": 2,
     "metadata": {},
     "output_type": "execute_result"
    }
   ],
   "source": [
    "a =10\n",
    "a"
   ]
  },
  {
   "cell_type": "code",
   "execution_count": 4,
   "id": "72bd661e",
   "metadata": {},
   "outputs": [
    {
     "name": "stdout",
     "output_type": "stream",
     "text": [
      "<class 'int'>\n"
     ]
    }
   ],
   "source": [
    "# to know the data type\n",
    "print(type(a))"
   ]
  },
  {
   "cell_type": "code",
   "execution_count": 5,
   "id": "f4172390",
   "metadata": {},
   "outputs": [
    {
     "name": "stdout",
     "output_type": "stream",
     "text": [
      "140711275631688\n"
     ]
    }
   ],
   "source": [
    "print(id(a))"
   ]
  },
  {
   "cell_type": "code",
   "execution_count": 10,
   "id": "a55fc1da",
   "metadata": {},
   "outputs": [],
   "source": [
    "abc = 1.5"
   ]
  },
  {
   "cell_type": "code",
   "execution_count": 11,
   "id": "b25ce75b",
   "metadata": {},
   "outputs": [
    {
     "name": "stdout",
     "output_type": "stream",
     "text": [
      "<class 'float'>\n"
     ]
    }
   ],
   "source": [
    "print(type(abc))"
   ]
  },
  {
   "cell_type": "code",
   "execution_count": 8,
   "id": "41cb267b",
   "metadata": {},
   "outputs": [
    {
     "name": "stdout",
     "output_type": "stream",
     "text": [
      "2728625377008\n"
     ]
    }
   ],
   "source": [
    "print(id(a))"
   ]
  },
  {
   "cell_type": "code",
   "execution_count": 12,
   "id": "23101b40",
   "metadata": {},
   "outputs": [],
   "source": [
    "a = 52\n",
    "b = 52"
   ]
  },
  {
   "cell_type": "code",
   "execution_count": 13,
   "id": "7a91d5ac",
   "metadata": {},
   "outputs": [
    {
     "name": "stdout",
     "output_type": "stream",
     "text": [
      "True\n"
     ]
    }
   ],
   "source": [
    "print(a is b)\n",
    "    "
   ]
  },
  {
   "cell_type": "code",
   "execution_count": 14,
   "id": "c96b549b",
   "metadata": {},
   "outputs": [
    {
     "name": "stdout",
     "output_type": "stream",
     "text": [
      "<built-in function id> 52 140711275633032\n"
     ]
    }
   ],
   "source": [
    "print(id,(a), id(b))"
   ]
  },
  {
   "cell_type": "code",
   "execution_count": 16,
   "id": "efc3381b",
   "metadata": {},
   "outputs": [
    {
     "ename": "SyntaxError",
     "evalue": "invalid syntax (869378140.py, line 3)",
     "output_type": "error",
     "traceback": [
      "\u001b[1;36m  Cell \u001b[1;32mIn[16], line 3\u001b[1;36m\u001b[0m\n\u001b[1;33m    -->True <class'bool'>\u001b[0m\n\u001b[1;37m     ^\u001b[0m\n\u001b[1;31mSyntaxError\u001b[0m\u001b[1;31m:\u001b[0m invalid syntax\n"
     ]
    }
   ],
   "source": [
    "a = bool(20)\n",
    "print(a, type(a))\n",
    "-->True <class'bool'>"
   ]
  },
  {
   "cell_type": "code",
   "execution_count": 23,
   "id": "087bc06c",
   "metadata": {},
   "outputs": [],
   "source": [
    "triple_quoted = '''Hi mehfooz hussain cn\n",
    "                                             How are you'''"
   ]
  },
  {
   "cell_type": "code",
   "execution_count": 24,
   "id": "ffc56aa7",
   "metadata": {},
   "outputs": [
    {
     "ename": "NameError",
     "evalue": "name 'triple' is not defined",
     "output_type": "error",
     "traceback": [
      "\u001b[1;31m---------------------------------------------------------------------------\u001b[0m",
      "\u001b[1;31mNameError\u001b[0m                                 Traceback (most recent call last)",
      "Cell \u001b[1;32mIn[24], line 1\u001b[0m\n\u001b[1;32m----> 1\u001b[0m \u001b[38;5;28mprint\u001b[39m(triple\u001b[38;5;241m-\u001b[39mquote)\n",
      "\u001b[1;31mNameError\u001b[0m: name 'triple' is not defined"
     ]
    }
   ],
   "source": [
    "print(triple-quote)"
   ]
  },
  {
   "cell_type": "code",
   "execution_count": 26,
   "id": "e48f563d",
   "metadata": {},
   "outputs": [
    {
     "ename": "NameError",
     "evalue": "name 'Mehfooz' is not defined",
     "output_type": "error",
     "traceback": [
      "\u001b[1;31m---------------------------------------------------------------------------\u001b[0m",
      "\u001b[1;31mNameError\u001b[0m                                 Traceback (most recent call last)",
      "Cell \u001b[1;32mIn[26], line 1\u001b[0m\n\u001b[1;32m----> 1\u001b[0m first_name \u001b[38;5;241m=\u001b[39m Mehfooz\n\u001b[0;32m      2\u001b[0m last_name \u001b[38;5;241m=\u001b[39m cn\n\u001b[0;32m      3\u001b[0m full_name \u001b[38;5;241m=\u001b[39m (first_name\u001b[38;5;241m+\u001b[39m\u001b[38;5;124m\"\u001b[39m\u001b[38;5;124m \u001b[39m\u001b[38;5;124m\"\u001b[39m\u001b[38;5;241m+\u001b[39mlast_name)\n",
      "\u001b[1;31mNameError\u001b[0m: name 'Mehfooz' is not defined"
     ]
    }
   ],
   "source": [
    "first_name = Mehfooz\n",
    "last_name = cn\n",
    "full_name = (first_name+\" \"+last_name)"
   ]
  },
  {
   "cell_type": "code",
   "execution_count": 29,
   "id": "1b74676e",
   "metadata": {},
   "outputs": [
    {
     "name": "stdout",
     "output_type": "stream",
     "text": [
      "6\n"
     ]
    }
   ],
   "source": [
    "text = \"PYTHON\"\n",
    "length =len(text)\n",
    "print(length)"
   ]
  },
  {
   "cell_type": "code",
   "execution_count": 30,
   "id": "98596065",
   "metadata": {},
   "outputs": [],
   "source": [
    "first_char = text[2]"
   ]
  },
  {
   "cell_type": "code",
   "execution_count": 1,
   "id": "b5c3ce83",
   "metadata": {},
   "outputs": [],
   "source": [
    "my_list = []"
   ]
  },
  {
   "cell_type": "code",
   "execution_count": 2,
   "id": "2aeb8895",
   "metadata": {},
   "outputs": [],
   "source": [
    "another_list = [1, 'two', 3.0,[4,5]]"
   ]
  },
  {
   "cell_type": "code",
   "execution_count": 3,
   "id": "f8b55b05",
   "metadata": {},
   "outputs": [],
   "source": [
    "another_list = [0]"
   ]
  },
  {
   "cell_type": "code",
   "execution_count": 4,
   "id": "dbb7b499",
   "metadata": {},
   "outputs": [],
   "source": [
    "mixed_list = [1, 'char', 6.3]"
   ]
  },
  {
   "cell_type": "code",
   "execution_count": 5,
   "id": "7579ea0a",
   "metadata": {},
   "outputs": [],
   "source": [
    "#Addition\n",
    "#Append:\n",
    "my_list = [1,2,3]\n",
    "my_list.append(mixed_list)"
   ]
  },
  {
   "cell_type": "code",
   "execution_count": 6,
   "id": "0e3741c6",
   "metadata": {},
   "outputs": [
    {
     "ename": "AttributeError",
     "evalue": "'builtin_function_or_method' object has no attribute 'my_list'",
     "output_type": "error",
     "traceback": [
      "\u001b[1;31m---------------------------------------------------------------------------\u001b[0m",
      "\u001b[1;31mAttributeError\u001b[0m                            Traceback (most recent call last)",
      "Cell \u001b[1;32mIn[6], line 1\u001b[0m\n\u001b[1;32m----> 1\u001b[0m \u001b[38;5;28mprint\u001b[39m\u001b[38;5;241m.\u001b[39mmy_list\n",
      "\u001b[1;31mAttributeError\u001b[0m: 'builtin_function_or_method' object has no attribute 'my_list'"
     ]
    }
   ],
   "source": [
    "print.my_list"
   ]
  },
  {
   "cell_type": "code",
   "execution_count": 7,
   "id": "3c098fa1",
   "metadata": {},
   "outputs": [
    {
     "ename": "TypeError",
     "evalue": "list.extend() takes exactly one argument (0 given)",
     "output_type": "error",
     "traceback": [
      "\u001b[1;31m---------------------------------------------------------------------------\u001b[0m",
      "\u001b[1;31mTypeError\u001b[0m                                 Traceback (most recent call last)",
      "Cell \u001b[1;32mIn[7], line 3\u001b[0m\n\u001b[0;32m      1\u001b[0m my_list1 \u001b[38;5;241m=\u001b[39m [\u001b[38;5;241m1\u001b[39m,\u001b[38;5;241m2\u001b[39m,\u001b[38;5;241m3\u001b[39m]\n\u001b[0;32m      2\u001b[0m my_list2 \u001b[38;5;241m=\u001b[39m [\u001b[38;5;241m4\u001b[39m,\u001b[38;5;241m5\u001b[39m]\n\u001b[1;32m----> 3\u001b[0m \u001b[38;5;28mlist\u001b[39m\u001b[38;5;241m.\u001b[39mextend(my_list2)\n\u001b[0;32m      4\u001b[0m \u001b[38;5;28mprint\u001b[39m(my_list1, my_list2)\n",
      "\u001b[1;31mTypeError\u001b[0m: list.extend() takes exactly one argument (0 given)"
     ]
    }
   ],
   "source": [
    "my_list1 = [1,2,3]\n",
    "my_list2 = [4,5]\n",
    "list.extend(my_list2)\n",
    "print(my_list1, my_list2)"
   ]
  },
  {
   "cell_type": "code",
   "execution_count": 31,
   "id": "136e98c2",
   "metadata": {},
   "outputs": [
    {
     "ename": "SyntaxError",
     "evalue": "cannot delete function call (1601951462.py, line 16)",
     "output_type": "error",
     "traceback": [
      "\u001b[1;36m  Cell \u001b[1;32mIn[31], line 16\u001b[1;36m\u001b[0m\n\u001b[1;33m    del my_list(2)\u001b[0m\n\u001b[1;37m        ^\u001b[0m\n\u001b[1;31mSyntaxError\u001b[0m\u001b[1;31m:\u001b[0m cannot delete function call\n"
     ]
    }
   ],
   "source": [
    "#removal\n",
    "#remove:\n",
    "my_list = [1,2,3,2]\n",
    "my_list.remove(2)\n",
    "print(my_list)\n",
    "\n",
    "#pop\n",
    "my_list = [1,2,3]\n",
    "print(my_list[0])\n",
    "poped_list = my_list.pop(1)\n",
    "print(popped_list)\n",
    "print(my_list)\n",
    "\n",
    "#del:\n",
    "my_list = (1,2,3)\n",
    "del my_list(2)\n",
    "print (my_list)\n",
    "    "
   ]
  },
  {
   "cell_type": "code",
   "execution_count": 17,
   "id": "e006e03d",
   "metadata": {},
   "outputs": [
    {
     "data": {
      "text/plain": [
       "list"
      ]
     },
     "execution_count": 17,
     "metadata": {},
     "output_type": "execute_result"
    }
   ],
   "source": [
    "list1 = [1,2,3,]\n",
    "type(list)"
   ]
  },
  {
   "cell_type": "code",
   "execution_count": 23,
   "id": "873571c4",
   "metadata": {},
   "outputs": [
    {
     "name": "stdout",
     "output_type": "stream",
     "text": [
      "[1, 2, 3]\n"
     ]
    }
   ],
   "source": [
    "print (list1)"
   ]
  },
  {
   "cell_type": "code",
   "execution_count": 27,
   "id": "e121aea5",
   "metadata": {},
   "outputs": [
    {
     "name": "stdout",
     "output_type": "stream",
     "text": [
      "2\n"
     ]
    }
   ],
   "source": [
    "print(2)"
   ]
  },
  {
   "cell_type": "code",
   "execution_count": 30,
   "id": "5a6ae9f0",
   "metadata": {},
   "outputs": [
    {
     "name": "stdout",
     "output_type": "stream",
     "text": [
      "[1, 2, 3] [1, 2, 3]\n"
     ]
    },
    {
     "ename": "TypeError",
     "evalue": "'list' object is not callable",
     "output_type": "error",
     "traceback": [
      "\u001b[1;31m---------------------------------------------------------------------------\u001b[0m",
      "\u001b[1;31mTypeError\u001b[0m                                 Traceback (most recent call last)",
      "Cell \u001b[1;32mIn[30], line 7\u001b[0m\n\u001b[0;32m      4\u001b[0m \u001b[38;5;28mprint\u001b[39m(original_list,copied_list)\n\u001b[0;32m      6\u001b[0m \u001b[38;5;66;03m#list:\u001b[39;00m\n\u001b[1;32m----> 7\u001b[0m copied_list2 \u001b[38;5;241m=\u001b[39m \u001b[38;5;28mlist\u001b[39m(original_list)\n\u001b[0;32m      8\u001b[0m \u001b[38;5;28mprint\u001b[39m(copied_list2)\n",
      "\u001b[1;31mTypeError\u001b[0m: 'list' object is not callable"
     ]
    }
   ],
   "source": [
    "#copy:\n",
    "original_list = [1,2,3]\n",
    "copied_list = original_list.copy()\n",
    "print(original_list,copied_list)\n",
    "\n",
    "#list:\n",
    "copied_list2 = list(original_list)\n",
    "print(copied_list2)"
   ]
  },
  {
   "cell_type": "code",
   "execution_count": 32,
   "id": "54279cef",
   "metadata": {},
   "outputs": [
    {
     "name": "stdout",
     "output_type": "stream",
     "text": [
      "a 100\n"
     ]
    }
   ],
   "source": [
    "#positive indexing:\n",
    "my_list = ['a','b' 'c' 'd', 100, 'python']\n",
    "first_element = my_list[0]\n",
    "third_element = my_list[2]\n",
    "print(first_element,third_element)"
   ]
  },
  {
   "cell_type": "code",
   "execution_count": 35,
   "id": "19cba4a1",
   "metadata": {},
   "outputs": [
    {
     "name": "stdout",
     "output_type": "stream",
     "text": [
      "python bcd\n"
     ]
    }
   ],
   "source": [
    "#negative indexing:\n",
    "last_element = my_list[-1]\n",
    "second_last = my_list[-3]\n",
    "print(last_element,second_last)"
   ]
  },
  {
   "cell_type": "code",
   "execution_count": null,
   "id": "bcbcc4e1",
   "metadata": {},
   "outputs": [],
   "source": [
    "#slice assignment\n",
    "numbers = [1,2,3,4,5,6,7,8,9]\n"
   ]
  },
  {
   "cell_type": "code",
   "execution_count": 8,
   "id": "0d3016b8",
   "metadata": {},
   "outputs": [
    {
     "data": {
      "text/plain": [
       "int"
      ]
     },
     "execution_count": 8,
     "metadata": {},
     "output_type": "execute_result"
    }
   ],
   "source": [
    "x\n",
    "type(x)"
   ]
  },
  {
   "cell_type": "code",
   "execution_count": 9,
   "id": "755e0f11",
   "metadata": {},
   "outputs": [
    {
     "data": {
      "text/plain": [
       "float"
      ]
     },
     "execution_count": 9,
     "metadata": {},
     "output_type": "execute_result"
    }
   ],
   "source": [
    "a =1.23\n",
    "type(a)"
   ]
  },
  {
   "cell_type": "code",
   "execution_count": 10,
   "id": "2fe50a77",
   "metadata": {},
   "outputs": [
    {
     "data": {
      "text/plain": [
       "str"
      ]
     },
     "execution_count": 10,
     "metadata": {},
     "output_type": "execute_result"
    }
   ],
   "source": [
    " name = 'Mehfooz'\n",
    "type(name)"
   ]
  },
  {
   "cell_type": "code",
   "execution_count": 11,
   "id": "a19b972f",
   "metadata": {},
   "outputs": [
    {
     "data": {
      "text/plain": [
       "int"
      ]
     },
     "execution_count": 11,
     "metadata": {},
     "output_type": "execute_result"
    }
   ],
   "source": [
    "a = x+2\n",
    "type(a)"
   ]
  }
 ],
 "metadata": {
  "kernelspec": {
   "display_name": "Python 3 (ipykernel)",
   "language": "python",
   "name": "python3"
  },
  "language_info": {
   "codemirror_mode": {
    "name": "ipython",
    "version": 3
   },
   "file_extension": ".py",
   "mimetype": "text/x-python",
   "name": "python",
   "nbconvert_exporter": "python",
   "pygments_lexer": "ipython3",
   "version": "3.11.5"
  }
 },
 "nbformat": 4,
 "nbformat_minor": 5
}
